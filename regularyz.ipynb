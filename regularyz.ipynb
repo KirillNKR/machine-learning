{
 "cells": [
  {
   "cell_type": "code",
   "execution_count": 16,
   "id": "21c84ab6-40fa-4118-897d-c2aa4f45febc",
   "metadata": {},
   "outputs": [],
   "source": [
    "from sklearn.model_selection import train_test_split\n",
    "import pandas as pd\n",
    "import numpy as np\n",
    "from sklearn.linear_model import Lasso, Ridge, LinearRegression\n",
    "import matplotlib.pyplot as plt\n",
    "from sklearn.metrics import mean_squared_error\n",
    "%matplotlib inline"
   ]
  },
  {
   "cell_type": "code",
   "execution_count": 6,
   "id": "cc1d6042-c8ab-4591-b62f-8bb5042468c7",
   "metadata": {},
   "outputs": [],
   "source": [
    "data_url = \"https://lib.stat.cmu.edu/datasets/boston\"\n",
    "raw_df = pd.read_csv(data_url, sep=\"\\s+\", skiprows=22, header=None)\n",
    "X = np.hstack([raw_df.values[::2, :], raw_df.values[1::2, :2]])\n",
    "y = raw_df.values[1::2, 2]"
   ]
  },
  {
   "cell_type": "code",
   "execution_count": 8,
   "id": "1a46e9f3-1c8a-4302-927a-1448fa721b4c",
   "metadata": {},
   "outputs": [],
   "source": [
    "\n",
    "x_train_val, x_test, y_train_val, y_test = train_test_split(X, y, test_size=0.2, random_state=42)\n",
    "x_train, x_val, y_train, y_val = train_test_split(x_train_val, y_train_val, test_size=1/8, random_state=42)\n"
   ]
  },
  {
   "cell_type": "code",
   "execution_count": 12,
   "id": "48ca9702-bfeb-4214-a213-4f7651c2ea68",
   "metadata": {},
   "outputs": [
    {
     "name": "stdout",
     "output_type": "stream",
     "text": [
      "X: (506, 13)\n",
      "Y: (506,)\n"
     ]
    }
   ],
   "source": [
    "print(\"X:\" ,X.shape)\n",
    "print(\"Y:\", y.shape)\n"
   ]
  },
  {
   "cell_type": "code",
   "execution_count": 41,
   "id": "bac8ccfd-6d6e-4068-acb3-2a7e4713d0ce",
   "metadata": {},
   "outputs": [
    {
     "name": "stdout",
     "output_type": "stream",
     "text": [
      "Lasso Coefficient:\n",
      "\t-0.08532814000977827\n",
      "\t0.027958410554584454\n",
      "\t-0.0\n",
      "\t0.0\n",
      "\t-0.0\n",
      "\t2.3129943034501195\n",
      "\t0.010560740599393284\n",
      "\t-0.6764302360206214\n",
      "\t0.1842049869711683\n",
      "\t-0.011061815910052342\n",
      "\t-0.7209278599168264\n",
      "\t0.011678045544334475\n",
      "\t-0.6684419375990314\n",
      "Ridge Coefficient:\n",
      "\t-0.11209603391779442\n",
      "\t0.03342484715002954\n",
      "\t0.020073408757658784\n",
      "\t2.458556959762607\n",
      "\t-9.302807754425011\n",
      "\t5.1869711366155355\n",
      "\t-0.01962102183243657\n",
      "\t-1.3565597223182233\n",
      "\t0.2136783875038084\n",
      "\t-0.010963595358500533\n",
      "\t-0.8194643181982197\n",
      "\t0.012865067834182089\n",
      "\t-0.44025677873693286\n",
      "Сумма абсолютных значений коэффициентов lasso: 4.709586476575909\n",
      "Сумма абсолютных значений коэффициентов ridge: 19.987339032410937\n"
     ]
    },
    {
     "data": {
      "text/plain": [
       "(13,)"
      ]
     },
     "execution_count": 41,
     "metadata": {},
     "output_type": "execute_result"
    }
   ],
   "source": [
    "lasso = Lasso().fit(x_train, y_train)\n",
    "ridge = Ridge().fit(x_train, y_train)\n",
    "print(\"Lasso Coefficient:\", *lasso.coef_, sep=\"\\n\\t\")\n",
    "print('Ridge Coefficient:', *ridge.coef_, sep=\"\\n\\t\")\n",
    "print(\"Сумма абсолютных значений коэффициентов lasso:\", np.sum(np.abs(lasso.coef_)))\n",
    "print(\"Сумма абсолютных значений коэффициентов ridge:\", np.sum(np.abs(ridge.coef_)))\n"
   ]
  },
  {
   "cell_type": "code",
   "execution_count": 21,
   "id": "58ec321f-ca9c-47b9-896a-c8a4ccef5a98",
   "metadata": {},
   "outputs": [
    {
     "data": {
      "text/plain": [
       "<Figure size 640x480 with 0 Axes>"
      ]
     },
     "metadata": {},
     "output_type": "display_data"
    },
    {
     "data": {
      "image/png": "[encoded data removed]",
      "text/plain": [
       "<Figure size 640x480 with 2 Axes>"
      ]
     },
     "metadata": {},
     "output_type": "display_data"
    },
    {
     "name": "stdout",
     "output_type": "stream",
     "text": [
      "Найлучший коэффициент для Lasso: 1.5\n",
      "Наилучший коэффициент для Ridge: 400\n"
     ]
    }
   ],
   "source": [
    "#Подбор параметра регуляризаци\n",
    "lasso_alphas = [0.3, 0.5, 1, 1.1, 1.2, 1.3, 1.5, 2, 2.2, 2.5]\n",
    "ridge_alphas = [50, 200, 300, 350, 400, 500, 600, 700, 1000, 1200]\n",
    "lasso_losses = []\n",
    "ridge_losses = []\n",
    "for i in range(len(lasso_alphas)):\n",
    "    lasso = Lasso(alpha=lasso_alphas[i]).fit(x_train, y_train)\n",
    "\n",
    "    y_pred = lasso.predict(x_val)\n",
    "    mse_lasso = mean_squared_error(y_pred, y_val)\n",
    "    lasso_losses.append(mse_lasso)\n",
    "\n",
    "    ridge = Ridge(alpha=ridge_alphas[i]).fit(x_train, y_train)\n",
    "\n",
    "    y_pred = ridge.predict(x_val)\n",
    "    mse_ridge = mean_squared_error(y_pred, y_val)\n",
    "    ridge_losses.append(mse_ridge)\n",
    "\n",
    "plt.suptitle('Эффект от изменения альфа  на MSE для lasso и ridge')\n",
    "\n",
    "fig, (ax1, ax2) = plt.subplots(1,2, sharey=True)\n",
    "\n",
    "ax1.plot(lasso_alphas, lasso_losses, label=\"lasso\")\n",
    "ax1.legend()\n",
    "ax1.set(xlabel=\"alpha\", ylabel=\"MSE\")\n",
    "\n",
    "ax2.plot(ridge_alphas, ridge_losses, label=\"ridge\")\n",
    "ax2.legend()\n",
    "ax2.set(xlabel=\"alpha\", ylabel=\"MSE\")\n",
    "\n",
    "plt.show()\n",
    "\n",
    "lasso_best_alpha = lasso_alphas[np.argmin(lasso_losses)]\n",
    "ridge_best_alpha = ridge_alphas[np.argmin(ridge_losses)]\n",
    "print(\"Найлучший коэффициент для Lasso:\", lasso_best_alpha)\n",
    "print(\"Наилучший коэффициент для Ridge:\", ridge_best_alpha)"
   ]
  },
  {
   "cell_type": "code",
   "execution_count": 22,
   "id": "021505d6-4f68-4098-a648-b14799454f86",
   "metadata": {},
   "outputs": [
    {
     "name": "stdout",
     "output_type": "stream",
     "text": [
      "Lasso MSE на тестовом наборе: 25.624484407448573\n",
      "Ridge MSE на тестовом наборе: 23.605477806920064\n"
     ]
    }
   ],
   "source": [
    "lasso = Lasso(alpha=lasso_best_alpha)\n",
    "lasso.fit(x_train, y_train)\n",
    "y_pred = lasso.predict(x_test)\n",
    "print(\"Lasso MSE на тестовом наборе:\", mean_squared_error(y_test, y_pred))\n",
    "\n",
    "ridge = Ridge(alpha=ridge_best_alpha)\n",
    "ridge.fit(x_train, y_train)\n",
    "y_pred = ridge.predict(x_test)\n",
    "print(\"Ridge MSE на тестовом наборе:\", mean_squared_error(y_test, y_pred))"
   ]
  },
  {
   "cell_type": "code",
   "execution_count": 40,
   "id": "48e95b69-46f6-47f6-9d77-6e9a84af0dfe",
   "metadata": {},
   "outputs": [
    {
     "data": {
      "text/plain": [
       "<function matplotlib.pyplot.show(close=None, block=None)>"
      ]
     },
     "execution_count": 40,
     "metadata": {},
     "output_type": "execute_result"
    }
   ],
   "source": [
    "lasso_alphas = [1, 1.1, 1.2, 1.3, 1.5, 2, 2.2, 2.5, 3, 5]\n",
    "ridge_alphas = [100, 200, 300, 350, 400, 500, 600, 700, 1000, 1200, 2000, 3000]\n",
    "lasso_coefs_ = np.zeros((len(lasso_alphas), len(X[0])))\n",
    "ridge_coefs_ = np.zeros((len(ridge_alphas), len(X[0])))\n",
    "for i in range(len(lasso_alphas)):\n",
    "    lasso = Lasso(alpha=lasso_alphas[i])\n",
    "    lasso.fit(x_train, y_train)\n",
    "    lasso_coefs_[i] = lasso.coef_\n",
    "\n",
    "for i in range(len(ridge_alphas)):\n",
    "    rigde = Ridge(alpha=ridge_alphas[i])\n",
    "    ridge.fit(x_train, y_train)\n",
    "    ridge_coefs_[i] = ridge.coef_\n",
    "\n",
    "for idx in range(len(X[0])):\n",
    "    ax1.plot(lasso_alphas, lasso_coefs_[:, idx], label=f\"feature{idx}\")\n",
    "ax1.legend()\n",
    "ax1.set(xlabel='alpha', ylabel='coefs')\n",
    "\n",
    "for idx in range(len(X[0])):\n",
    "    ax2.plot(ridge_alphas, ridge_coefs_[:, idx], label=f\"feature {idx}\")\n",
    "ax2.legend()\n",
    "ax2.set(xlabel='alpha', ylabel='coefs')\n",
    "\n",
    "plt.show"
   ]
  },
  {
   "cell_type": "code",
   "execution_count": 42,
   "id": "030b6f8d-c6ac-439d-b7a2-a61c9ee2f209",
   "metadata": {},
   "outputs": [
    {
     "data": {
      "text/plain": [
       "(10, 13)"
      ]
     },
     "execution_count": 42,
     "metadata": {},
     "output_type": "execute_result"
    }
   ],
   "source": [
    "lasso_coefs_.shape"
   ]
  },
  {
   "cell_type": "code",
   "execution_count": null,
   "id": "597d464a-d5e6-4641-b097-602f26816a38",
   "metadata": {},
   "outputs": [],
   "source": []
  }
 ],
 "metadata": {
  "kernelspec": {
   "display_name": "Python 3 (ipykernel)",
   "language": "python",
   "name": "python3"
  },
  "language_info": {
   "codemirror_mode": {
    "name": "ipython",
    "version": 3
   },
   "file_extension": ".py",
   "mimetype": "text/x-python",
   "name": "python",
   "nbconvert_exporter": "python",
   "pygments_lexer": "ipython3",
   "version": "3.11.7"
  }
 },
 "nbformat": 4,
 "nbformat_minor": 5
}
