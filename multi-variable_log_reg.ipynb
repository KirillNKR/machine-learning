{
 "cells": [
  {
   "cell_type": "code",
   "execution_count": 1,
   "id": "e88bd476",
   "metadata": {},
   "outputs": [],
   "source": [
    "from sklearn.datasets import load_iris\n",
    "import numpy as np"
   ]
  },
  {
   "cell_type": "code",
   "execution_count": 2,
   "id": "e117284f",
   "metadata": {},
   "outputs": [],
   "source": [
    "data = load_iris()\n",
    "X = data['data'][:,(2,3)]\n",
    "y = data['target']\n"
   ]
  },
  {
   "cell_type": "code",
   "execution_count": 40,
   "id": "4a11e4ec",
   "metadata": {},
   "outputs": [
    {
     "data": {
      "text/plain": [
       "(150, 2)"
      ]
     },
     "execution_count": 40,
     "metadata": {},
     "output_type": "execute_result"
    }
   ],
   "source": [
    "X.shape"
   ]
  },
  {
   "cell_type": "code",
   "execution_count": 3,
   "id": "d8facdc6",
   "metadata": {},
   "outputs": [],
   "source": [
    "#смещение\n",
    "X_with_bias = np.c_[np.ones([len(X), 1]), X]\n",
    "np.random.seed(1238)"
   ]
  },
  {
   "cell_type": "code",
   "execution_count": 4,
   "id": "240f32f9",
   "metadata": {},
   "outputs": [],
   "source": [
    "test_ratio = 0.2\n",
    "validation_ratio = 0.2\n",
    "total_size = len(X_with_bias)\n",
    "\n",
    "test_size = int(total_size * test_ratio)\n",
    "validation_size = int(total_size * validation_ratio)\n",
    "train_size = total_size - test_size - validation_size\n",
    "\n",
    "rnd_indicies =  np.random.permutation(total_size)\n",
    "\n",
    "X_train = X_with_bias[rnd_indicies[:train_size]]\n",
    "y_train = y[rnd_indicies[:train_size]]\n",
    "X_test = X_with_bias[rnd_indicies[-test_size:]]\n",
    "y_test = y[rnd_indicies[-test_size:]]\n",
    "X_valid = X_with_bias[rnd_indicies[train_size: -test_size]]\n",
    "y_valid = y[rnd_indicies[train_size: -test_size]]"
   ]
  },
  {
   "cell_type": "code",
   "execution_count": 5,
   "id": "ea21b838",
   "metadata": {},
   "outputs": [],
   "source": [
    "#вектор классов в в матрицу one_hot\n",
    "def to_one_hot(y):\n",
    "    n_classes = y.max() + 1\n",
    "    m = len(y)\n",
    "    Y_one_hot = np.zeros((m, n_classes))\n",
    "    Y_one_hot[np.arange(m), y] = 1\n",
    "    return Y_one_hot"
   ]
  },
  {
   "cell_type": "code",
   "execution_count": 44,
   "id": "2436d8bf",
   "metadata": {},
   "outputs": [
    {
     "name": "stdout",
     "output_type": "stream",
     "text": [
      "[2 1 2 1 2 2 0 0 1 0]\n"
     ]
    },
    {
     "data": {
      "text/plain": [
       "array([[0., 0., 1.],\n",
       "       [0., 1., 0.],\n",
       "       [0., 0., 1.],\n",
       "       [0., 1., 0.],\n",
       "       [0., 0., 1.],\n",
       "       [0., 0., 1.],\n",
       "       [1., 0., 0.],\n",
       "       [1., 0., 0.],\n",
       "       [0., 1., 0.],\n",
       "       [1., 0., 0.]])"
      ]
     },
     "execution_count": 44,
     "metadata": {},
     "output_type": "execute_result"
    }
   ],
   "source": [
    "#проверим функцию\n",
    "print(y_train[:10])\n",
    "to_one_hot(y_train[:10])"
   ]
  },
  {
   "cell_type": "code",
   "execution_count": 6,
   "id": "fed47941",
   "metadata": {},
   "outputs": [],
   "source": [
    "y_train_one_hot = to_one_hot(y_train)\n",
    "y_test_one_hot = to_one_hot(y_test)\n",
    "y_valid_one_hot = to_one_hot(y_valid)\n"
   ]
  },
  {
   "cell_type": "code",
   "execution_count": 7,
   "id": "033e4a4f",
   "metadata": {},
   "outputs": [],
   "source": [
    "def softmax(logits):\n",
    "    exps = np.exp(logits)\n",
    "    exp_sums = np.sum(exps, axis = 1, keepdims=True)\n",
    "    return exps / exp_sums\n"
   ]
  },
  {
   "cell_type": "code",
   "execution_count": 8,
   "id": "6b480af6",
   "metadata": {},
   "outputs": [],
   "source": [
    "n_inputs = X_train.shape[1]\n",
    "n_outputs = len(np.unique(y_train))\n"
   ]
  },
  {
   "cell_type": "code",
   "execution_count": 50,
   "id": "b22f7f19",
   "metadata": {},
   "outputs": [
    {
     "name": "stdout",
     "output_type": "stream",
     "text": [
      "0 4.29637560309506\n",
      "500 0.6593354752556455\n",
      "1000 0.5889612997099655\n",
      "1500 0.5401417012181138\n",
      "2000 0.5040257999626816\n",
      "2500 0.47600657844272043\n",
      "3000 0.45347822549106304\n",
      "3500 0.43485813175779714\n",
      "4000 0.4191275186720931\n",
      "4500 0.40559896625729197\n",
      "5000 0.393790596450582\n"
     ]
    }
   ],
   "source": [
    "eta = 0.01\n",
    "n_iterations = 5001\n",
    "m = len(X_train)\n",
    "eplison = 1e-7\n",
    "Theta = np.random.randn(n_inputs, n_outputs)\n",
    "\n",
    "\n",
    "for iterations in range(n_iterations):\n",
    "    logits = X_train.dot(Theta)\n",
    "    y_proba = softmax(logits)\n",
    "    if iterations % 500 == 0:\n",
    "        loss = - np.mean(np.sum(y_train_one_hot * np.log(y_proba + eplison), axis = 1))\n",
    "        print(iterations, loss)\n",
    "    error = y_proba - y_train_one_hot\n",
    "    gradients = 1 / m * X_train.T.dot(error)\n",
    "    Theta = Theta - eta * gradients"
   ]
  },
  {
   "cell_type": "code",
   "execution_count": 51,
   "id": "b0919005",
   "metadata": {},
   "outputs": [
    {
     "data": {
      "text/plain": [
       "array([[ 4.01405007,  0.35467851, -1.89989067],\n",
       "       [-0.28904872,  0.56741465,  0.38997154],\n",
       "       [-2.10952097, -0.32079596,  1.78183178]])"
      ]
     },
     "execution_count": 51,
     "metadata": {},
     "output_type": "execute_result"
    }
   ],
   "source": [
    "Theta\n"
   ]
  },
  {
   "cell_type": "code",
   "execution_count": 55,
   "id": "50b83384",
   "metadata": {},
   "outputs": [
    {
     "data": {
      "text/plain": [
       "0.9"
      ]
     },
     "execution_count": 55,
     "metadata": {},
     "output_type": "execute_result"
    }
   ],
   "source": [
    "#проверка точности модели\n",
    "logits = X_valid.dot(Theta)\n",
    "y_proba = softmax(logits)\n",
    "y_predict = np.argmax(y_proba, axis=1)\n",
    "\n",
    "accuracy_score = np.mean(y_predict == y_valid)\n",
    "accuracy_score"
   ]
  },
  {
   "cell_type": "code",
   "execution_count": 61,
   "id": "29f1b407",
   "metadata": {},
   "outputs": [
    {
     "name": "stdout",
     "output_type": "stream",
     "text": [
      "0 7.78166571360394\n",
      "500 0.5505590462012283\n",
      "1000 0.5271994152258911\n",
      "1500 0.5200967069923391\n",
      "2000 0.5173417498405739\n",
      "2500 0.5161802386155885\n",
      "3000 0.5156697370823268\n",
      "3500 0.5154399275387939\n",
      "4000 0.5153349412472252\n",
      "4500 0.5152865261824984\n",
      "5000 0.5152640615616183\n"
     ]
    }
   ],
   "source": [
    "#добавим регуляризацию\n",
    "eta = 0.1\n",
    "n_iterations = 5001\n",
    "m = len(X_train)\n",
    "eplison = 1e-7\n",
    "alpha = 0.1  #гиперпараметр регуляризации\n",
    "\n",
    "Theta = np.random.randn(n_inputs, n_outputs)\n",
    "\n",
    "for iterations in range(n_iterations):\n",
    "    logits = X_train.dot(Theta)\n",
    "    y_proba = softmax(logits)\n",
    "    if iterations % 500 == 0:\n",
    "        xentropy_loss = -np.mean(np.sum(y_train_one_hot * np.log(y_proba + eplison), axis = 1))\n",
    "        l2_loss = 1/2 *  np.sum(np.square(Theta[1:]))\n",
    "        loss = xentropy_loss + alpha * l2_loss\n",
    "        print(iterations, loss)\n",
    "    error = y_proba - y_train_one_hot\n",
    "    gradients = 1/m * X_train.T.dot(error) + np.r_[np.zeros([1, n_outputs]), alpha * Theta[1:]]\n",
    "    Theta = Theta - eta * gradients"
   ]
  },
  {
   "cell_type": "code",
   "execution_count": 74,
   "id": "39e5693e",
   "metadata": {},
   "outputs": [
    {
     "data": {
      "text/plain": [
       "0.9333333333333333"
      ]
     },
     "execution_count": 74,
     "metadata": {},
     "output_type": "execute_result"
    }
   ],
   "source": [
    "logits = X_valid.dot(Theta)\n",
    "y_proba = softmax(logits)\n",
    "y_predict = np.argmax(y_proba, axis = 1)\n",
    "y_true = y_predict[y_predict == y_valid]\n",
    "acc = len(y_true) / len(y_valid)\n",
    "acc\n",
    "# accuracy_score = np.mean(y_predict == y_valid)\n",
    "# accuracy_score"
   ]
  },
  {
   "cell_type": "code",
   "execution_count": 14,
   "id": "565704f3",
   "metadata": {},
   "outputs": [
    {
     "name": "stdout",
     "output_type": "stream",
     "text": [
      "0 1.3155876510898834\n",
      "500 0.5737008422554332\n",
      "1000 0.5369783259344605\n",
      "1500 0.5227301964984776\n",
      "2000 0.5158919344193085\n",
      "2500 0.5122450298839996\n",
      "3000 0.5101585146528007\n",
      "3500 0.5089027104923389\n",
      "4000 0.5081182780573976\n",
      "4500 0.5076148147050745\n",
      "5000 0.5072852924297672\n"
     ]
    }
   ],
   "source": [
    "eta = 0.1 \n",
    "n_iterations = 5001\n",
    "m = len(X_train)\n",
    "epsilon = 1e-7\n",
    "alpha = 0.1  # regularization hyperparameter\n",
    "best_loss = np.infty\n",
    "\n",
    "Theta = np.random.randn(n_inputs, n_outputs)\n",
    "\n",
    "for iteration in range(n_iterations):\n",
    "    logits = X_train.dot(Theta)\n",
    "    y_proba = softmax(logits)\n",
    "    error = y_proba - y_train_one_hot\n",
    "    gradients = 1/m * X_train.T.dot(error) + np.r_[np.zeros([1, n_outputs]), alpha * Theta[1:]]\n",
    "    Theta = Theta - eta * gradients\n",
    "\n",
    "    logits = X_valid.dot(Theta)\n",
    "    y_proba = softmax(logits)\n",
    "    xentropy_loss = -np.mean(np.sum(y_valid_one_hot * np.log(y_proba + epsilon), axis=1))\n",
    "    l2_loss = 1/2 * np.sum(np.square(Theta[1:]))\n",
    "    loss = xentropy_loss + alpha * l2_loss\n",
    "    if iteration % 500 == 0:\n",
    "        print(iteration, loss)\n",
    "    if loss < best_loss:\n",
    "        best_loss = loss\n",
    "    else:\n",
    "        print(iteration - 1, best_loss)\n",
    "        print(iteration, loss, \"early stopping!\")\n",
    "        break"
   ]
  },
  {
   "cell_type": "code",
   "execution_count": 15,
   "id": "6ec8dcb6",
   "metadata": {},
   "outputs": [
    {
     "data": {
      "text/plain": [
       "0.9333333333333333"
      ]
     },
     "execution_count": 15,
     "metadata": {},
     "output_type": "execute_result"
    }
   ],
   "source": [
    "logits = X_valid.dot(Theta)\n",
    "y_proba = softmax(logits)\n",
    "y_predict = np.argmax(y_proba, axis = 1)\n",
    "y_true = y_predict[y_predict == y_valid]\n",
    "acc = len(y_true) / len(y_valid)\n",
    "acc"
   ]
  },
  {
   "cell_type": "code",
   "execution_count": null,
   "id": "0a71db01",
   "metadata": {},
   "outputs": [],
   "source": []
  }
 ],
 "metadata": {
  "kernelspec": {
   "display_name": "Python 3 (ipykernel)",
   "language": "python",
   "name": "python3"
  },
  "language_info": {
   "codemirror_mode": {
    "name": "ipython",
    "version": 3
   },
   "file_extension": ".py",
   "mimetype": "text/x-python",
   "name": "python",
   "nbconvert_exporter": "python",
   "pygments_lexer": "ipython3",
   "version": "3.10.9"
  }
 },
 "nbformat": 4,
 "nbformat_minor": 5
}
